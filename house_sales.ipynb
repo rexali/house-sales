{
  "nbformat": 4,
  "nbformat_minor": 0,
  "metadata": {
    "colab": {
      "name": "house-sales.ipynb",
      "version": "0.3.2",
      "provenance": [],
      "include_colab_link": true
    },
    "kernelspec": {
      "name": "python3",
      "display_name": "Python 3"
    }
  },
  "cells": [
    {
      "cell_type": "markdown",
      "metadata": {
        "id": "view-in-github",
        "colab_type": "text"
      },
      "source": [
        "<a href=\"https://colab.research.google.com/github/rexali/house-sales/blob/master/house_sales.ipynb\" target=\"_parent\"><img src=\"https://colab.research.google.com/assets/colab-badge.svg\" alt=\"Open In Colab\"/></a>"
      ]
    },
    {
      "cell_type": "markdown",
      "metadata": {
        "id": "4A_TeFnUQJCU",
        "colab_type": "text"
      },
      "source": [
        "# House Sales in King County, USA"
      ]
    },
    {
      "cell_type": "markdown",
      "metadata": {
        "id": "xy7zdAJxQJCW",
        "colab_type": "text"
      },
      "source": [
        "This dataset contains house sale prices for King County, which includes Seattle. It includes homes sold between May 2014 and May 2015."
      ]
    },
    {
      "cell_type": "markdown",
      "metadata": {
        "id": "tWqFP8irQJCX",
        "colab_type": "text"
      },
      "source": [
        "<b>id</b> :a notation for a house\n",
        "\n",
        "<b> date</b>: Date house was sold\n",
        "\n",
        "\n",
        "<b>price</b>: Price is prediction target\n",
        "\n",
        "\n",
        "<b>bedrooms</b>: Number of Bedrooms/House\n",
        "\n",
        "\n",
        "<b>bathrooms</b>: Number of bathrooms/bedrooms\n",
        "\n",
        "<b>sqft_living</b>: square footage of the home\n",
        "\n",
        "<b>sqft_lot</b>: square footage of the lot\n",
        "\n",
        "\n",
        "<b>floors</b> :Total floors (levels) in house\n",
        "\n",
        "\n",
        "<b>waterfront</b> :House which has a view to a waterfront\n",
        "\n",
        "\n",
        "<b>view</b>: Has been viewed\n",
        "\n",
        "\n",
        "<b>condition</b> :How good the condition is  Overall\n",
        "\n",
        "<b>grade</b>: overall grade given to the housing unit, based on King County grading system\n",
        "\n",
        "\n",
        "<b>sqft_above</b> :square footage of house apart from basement\n",
        "\n",
        "\n",
        "<b>sqft_basement</b>: square footage of the basement\n",
        "\n",
        "<b>yr_built</b> :Built Year\n",
        "\n",
        "\n",
        "<b>yr_renovated</b> :Year when house was renovated\n",
        "\n",
        "<b>zipcode</b>:zip code\n",
        "\n",
        "\n",
        "<b>lat</b>: Latitude coordinate\n",
        "\n",
        "<b>long</b>: Longitude coordinate\n",
        "\n",
        "<b>sqft_living15</b> :Living room area in 2015(implies-- some renovations) This might or might not have affected the lotsize area\n",
        "\n",
        "\n",
        "<b>sqft_lot15</b> :lotSize area in 2015(implies-- some renovations)"
      ]
    },
    {
      "cell_type": "markdown",
      "metadata": {
        "id": "778lWywzQJCZ",
        "colab_type": "text"
      },
      "source": [
        "You will require the following libraries "
      ]
    },
    {
      "cell_type": "code",
      "metadata": {
        "id": "3ksZeB1BQJCb",
        "colab_type": "code",
        "colab": {}
      },
      "source": [
        "import pandas as pd\n",
        "import matplotlib.pyplot as plt\n",
        "import numpy as np\n",
        "import seaborn as sns\n",
        "from sklearn.pipeline import Pipeline\n",
        "from sklearn.preprocessing import StandardScaler,PolynomialFeatures\n",
        "%matplotlib inline"
      ],
      "execution_count": 0,
      "outputs": []
    },
    {
      "cell_type": "markdown",
      "metadata": {
        "id": "HFZs-5nkQJCi",
        "colab_type": "text"
      },
      "source": [
        "# 1.0 Importing the Data "
      ]
    },
    {
      "cell_type": "markdown",
      "metadata": {
        "id": "lKXIGK1JQJCj",
        "colab_type": "text"
      },
      "source": [
        " Load the csv:  "
      ]
    },
    {
      "cell_type": "code",
      "metadata": {
        "id": "9FcWT4wDQJCk",
        "colab_type": "code",
        "colab": {}
      },
      "source": [
        "file_name='https://s3-api.us-geo.objectstorage.softlayer.net/cf-courses-data/CognitiveClass/DA0101EN/coursera/project/kc_house_data_NaN.csv'\n",
        "df=pd.read_csv(file_name)"
      ],
      "execution_count": 0,
      "outputs": []
    },
    {
      "cell_type": "markdown",
      "metadata": {
        "id": "eOUxLO1qQJCo",
        "colab_type": "text"
      },
      "source": [
        "\n",
        "we use the method <code>head</code> to display the first 5 columns of the dataframe."
      ]
    },
    {
      "cell_type": "code",
      "metadata": {
        "id": "CJh8SMYPQJCp",
        "colab_type": "code",
        "outputId": "336bb59f-2513-4c7a-8eaa-e0d048db5d9f",
        "colab": {
          "base_uri": "https://localhost:8080/"
        }
      },
      "source": [
        "df.head()"
      ],
      "execution_count": 0,
      "outputs": [
        {
          "output_type": "execute_result",
          "data": {
            "text/html": [
              "<div>\n",
              "<style scoped>\n",
              "    .dataframe tbody tr th:only-of-type {\n",
              "        vertical-align: middle;\n",
              "    }\n",
              "\n",
              "    .dataframe tbody tr th {\n",
              "        vertical-align: top;\n",
              "    }\n",
              "\n",
              "    .dataframe thead th {\n",
              "        text-align: right;\n",
              "    }\n",
              "</style>\n",
              "<table border=\"1\" class=\"dataframe\">\n",
              "  <thead>\n",
              "    <tr style=\"text-align: right;\">\n",
              "      <th></th>\n",
              "      <th>Unnamed: 0</th>\n",
              "      <th>id</th>\n",
              "      <th>date</th>\n",
              "      <th>price</th>\n",
              "      <th>bedrooms</th>\n",
              "      <th>bathrooms</th>\n",
              "      <th>sqft_living</th>\n",
              "      <th>sqft_lot</th>\n",
              "      <th>floors</th>\n",
              "      <th>waterfront</th>\n",
              "      <th>view</th>\n",
              "      <th>condition</th>\n",
              "      <th>grade</th>\n",
              "      <th>sqft_above</th>\n",
              "      <th>sqft_basement</th>\n",
              "      <th>yr_built</th>\n",
              "      <th>yr_renovated</th>\n",
              "      <th>zipcode</th>\n",
              "      <th>lat</th>\n",
              "      <th>long</th>\n",
              "      <th>sqft_living15</th>\n",
              "      <th>sqft_lot15</th>\n",
              "    </tr>\n",
              "  </thead>\n",
              "  <tbody>\n",
              "    <tr>\n",
              "      <th>0</th>\n",
              "      <td>0</td>\n",
              "      <td>7129300520</td>\n",
              "      <td>20141013T000000</td>\n",
              "      <td>221900.0</td>\n",
              "      <td>3.0</td>\n",
              "      <td>1.00</td>\n",
              "      <td>1180</td>\n",
              "      <td>5650</td>\n",
              "      <td>1.0</td>\n",
              "      <td>0</td>\n",
              "      <td>0</td>\n",
              "      <td>3</td>\n",
              "      <td>7</td>\n",
              "      <td>1180</td>\n",
              "      <td>0</td>\n",
              "      <td>1955</td>\n",
              "      <td>0</td>\n",
              "      <td>98178</td>\n",
              "      <td>47.5112</td>\n",
              "      <td>-122.257</td>\n",
              "      <td>1340</td>\n",
              "      <td>5650</td>\n",
              "    </tr>\n",
              "    <tr>\n",
              "      <th>1</th>\n",
              "      <td>1</td>\n",
              "      <td>6414100192</td>\n",
              "      <td>20141209T000000</td>\n",
              "      <td>538000.0</td>\n",
              "      <td>3.0</td>\n",
              "      <td>2.25</td>\n",
              "      <td>2570</td>\n",
              "      <td>7242</td>\n",
              "      <td>2.0</td>\n",
              "      <td>0</td>\n",
              "      <td>0</td>\n",
              "      <td>3</td>\n",
              "      <td>7</td>\n",
              "      <td>2170</td>\n",
              "      <td>400</td>\n",
              "      <td>1951</td>\n",
              "      <td>1991</td>\n",
              "      <td>98125</td>\n",
              "      <td>47.7210</td>\n",
              "      <td>-122.319</td>\n",
              "      <td>1690</td>\n",
              "      <td>7639</td>\n",
              "    </tr>\n",
              "    <tr>\n",
              "      <th>2</th>\n",
              "      <td>2</td>\n",
              "      <td>5631500400</td>\n",
              "      <td>20150225T000000</td>\n",
              "      <td>180000.0</td>\n",
              "      <td>2.0</td>\n",
              "      <td>1.00</td>\n",
              "      <td>770</td>\n",
              "      <td>10000</td>\n",
              "      <td>1.0</td>\n",
              "      <td>0</td>\n",
              "      <td>0</td>\n",
              "      <td>3</td>\n",
              "      <td>6</td>\n",
              "      <td>770</td>\n",
              "      <td>0</td>\n",
              "      <td>1933</td>\n",
              "      <td>0</td>\n",
              "      <td>98028</td>\n",
              "      <td>47.7379</td>\n",
              "      <td>-122.233</td>\n",
              "      <td>2720</td>\n",
              "      <td>8062</td>\n",
              "    </tr>\n",
              "    <tr>\n",
              "      <th>3</th>\n",
              "      <td>3</td>\n",
              "      <td>2487200875</td>\n",
              "      <td>20141209T000000</td>\n",
              "      <td>604000.0</td>\n",
              "      <td>4.0</td>\n",
              "      <td>3.00</td>\n",
              "      <td>1960</td>\n",
              "      <td>5000</td>\n",
              "      <td>1.0</td>\n",
              "      <td>0</td>\n",
              "      <td>0</td>\n",
              "      <td>5</td>\n",
              "      <td>7</td>\n",
              "      <td>1050</td>\n",
              "      <td>910</td>\n",
              "      <td>1965</td>\n",
              "      <td>0</td>\n",
              "      <td>98136</td>\n",
              "      <td>47.5208</td>\n",
              "      <td>-122.393</td>\n",
              "      <td>1360</td>\n",
              "      <td>5000</td>\n",
              "    </tr>\n",
              "    <tr>\n",
              "      <th>4</th>\n",
              "      <td>4</td>\n",
              "      <td>1954400510</td>\n",
              "      <td>20150218T000000</td>\n",
              "      <td>510000.0</td>\n",
              "      <td>3.0</td>\n",
              "      <td>2.00</td>\n",
              "      <td>1680</td>\n",
              "      <td>8080</td>\n",
              "      <td>1.0</td>\n",
              "      <td>0</td>\n",
              "      <td>0</td>\n",
              "      <td>3</td>\n",
              "      <td>8</td>\n",
              "      <td>1680</td>\n",
              "      <td>0</td>\n",
              "      <td>1987</td>\n",
              "      <td>0</td>\n",
              "      <td>98074</td>\n",
              "      <td>47.6168</td>\n",
              "      <td>-122.045</td>\n",
              "      <td>1800</td>\n",
              "      <td>7503</td>\n",
              "    </tr>\n",
              "  </tbody>\n",
              "</table>\n",
              "</div>"
            ],
            "text/plain": [
              "   Unnamed: 0          id             date  ...     long  sqft_living15  sqft_lot15\n",
              "0           0  7129300520  20141013T000000  ... -122.257           1340        5650\n",
              "1           1  6414100192  20141209T000000  ... -122.319           1690        7639\n",
              "2           2  5631500400  20150225T000000  ... -122.233           2720        8062\n",
              "3           3  2487200875  20141209T000000  ... -122.393           1360        5000\n",
              "4           4  1954400510  20150218T000000  ... -122.045           1800        7503\n",
              "\n",
              "[5 rows x 22 columns]"
            ]
          },
          "metadata": {
            "tags": []
          },
          "execution_count": 3
        }
      ]
    },
    {
      "cell_type": "markdown",
      "metadata": {
        "id": "fuUhHYMNQJCy",
        "colab_type": "text"
      },
      "source": [
        "#### Question 1 \n",
        "Display the data types of each column using the attribute dtype, then take a screenshot and submit it, include your code in the image. "
      ]
    },
    {
      "cell_type": "code",
      "metadata": {
        "id": "JW180t-jQJCz",
        "colab_type": "code",
        "outputId": "01006e33-af4a-4e55-993a-2d2bff55a9e8",
        "colab": {
          "base_uri": "https://localhost:8080/",
          "height": 425
        }
      },
      "source": [
        "df.dtypes"
      ],
      "execution_count": 0,
      "outputs": [
        {
          "output_type": "execute_result",
          "data": {
            "text/plain": [
              "Unnamed: 0         int64\n",
              "id                 int64\n",
              "date              object\n",
              "price            float64\n",
              "bedrooms         float64\n",
              "bathrooms        float64\n",
              "sqft_living        int64\n",
              "sqft_lot           int64\n",
              "floors           float64\n",
              "waterfront         int64\n",
              "view               int64\n",
              "condition          int64\n",
              "grade              int64\n",
              "sqft_above         int64\n",
              "sqft_basement      int64\n",
              "yr_built           int64\n",
              "yr_renovated       int64\n",
              "zipcode            int64\n",
              "lat              float64\n",
              "long             float64\n",
              "sqft_living15      int64\n",
              "sqft_lot15         int64\n",
              "dtype: object"
            ]
          },
          "metadata": {
            "tags": []
          },
          "execution_count": 4
        }
      ]
    },
    {
      "cell_type": "markdown",
      "metadata": {
        "id": "a4zjWzAoQJC2",
        "colab_type": "text"
      },
      "source": [
        "We use the method describe to obtain a statistical summary of the dataframe."
      ]
    },
    {
      "cell_type": "code",
      "metadata": {
        "id": "I0udL0niQJC4",
        "colab_type": "code",
        "outputId": "b5d98ef4-4ebd-4b7e-fa08-3e7593be33f3",
        "colab": {
          "base_uri": "https://localhost:8080/",
          "height": 307
        }
      },
      "source": [
        "df.describe()"
      ],
      "execution_count": 0,
      "outputs": [
        {
          "output_type": "execute_result",
          "data": {
            "text/html": [
              "<div>\n",
              "<style scoped>\n",
              "    .dataframe tbody tr th:only-of-type {\n",
              "        vertical-align: middle;\n",
              "    }\n",
              "\n",
              "    .dataframe tbody tr th {\n",
              "        vertical-align: top;\n",
              "    }\n",
              "\n",
              "    .dataframe thead th {\n",
              "        text-align: right;\n",
              "    }\n",
              "</style>\n",
              "<table border=\"1\" class=\"dataframe\">\n",
              "  <thead>\n",
              "    <tr style=\"text-align: right;\">\n",
              "      <th></th>\n",
              "      <th>Unnamed: 0</th>\n",
              "      <th>id</th>\n",
              "      <th>price</th>\n",
              "      <th>bedrooms</th>\n",
              "      <th>bathrooms</th>\n",
              "      <th>sqft_living</th>\n",
              "      <th>sqft_lot</th>\n",
              "      <th>floors</th>\n",
              "      <th>waterfront</th>\n",
              "      <th>view</th>\n",
              "      <th>condition</th>\n",
              "      <th>grade</th>\n",
              "      <th>sqft_above</th>\n",
              "      <th>sqft_basement</th>\n",
              "      <th>yr_built</th>\n",
              "      <th>yr_renovated</th>\n",
              "      <th>zipcode</th>\n",
              "      <th>lat</th>\n",
              "      <th>long</th>\n",
              "      <th>sqft_living15</th>\n",
              "      <th>sqft_lot15</th>\n",
              "    </tr>\n",
              "  </thead>\n",
              "  <tbody>\n",
              "    <tr>\n",
              "      <th>count</th>\n",
              "      <td>21613.00000</td>\n",
              "      <td>2.161300e+04</td>\n",
              "      <td>2.161300e+04</td>\n",
              "      <td>21600.000000</td>\n",
              "      <td>21603.000000</td>\n",
              "      <td>21613.000000</td>\n",
              "      <td>2.161300e+04</td>\n",
              "      <td>21613.000000</td>\n",
              "      <td>21613.000000</td>\n",
              "      <td>21613.000000</td>\n",
              "      <td>21613.000000</td>\n",
              "      <td>21613.000000</td>\n",
              "      <td>21613.000000</td>\n",
              "      <td>21613.000000</td>\n",
              "      <td>21613.000000</td>\n",
              "      <td>21613.000000</td>\n",
              "      <td>21613.000000</td>\n",
              "      <td>21613.000000</td>\n",
              "      <td>21613.000000</td>\n",
              "      <td>21613.000000</td>\n",
              "      <td>21613.000000</td>\n",
              "    </tr>\n",
              "    <tr>\n",
              "      <th>mean</th>\n",
              "      <td>10806.00000</td>\n",
              "      <td>4.580302e+09</td>\n",
              "      <td>5.400881e+05</td>\n",
              "      <td>3.372870</td>\n",
              "      <td>2.115736</td>\n",
              "      <td>2079.899736</td>\n",
              "      <td>1.510697e+04</td>\n",
              "      <td>1.494309</td>\n",
              "      <td>0.007542</td>\n",
              "      <td>0.234303</td>\n",
              "      <td>3.409430</td>\n",
              "      <td>7.656873</td>\n",
              "      <td>1788.390691</td>\n",
              "      <td>291.509045</td>\n",
              "      <td>1971.005136</td>\n",
              "      <td>84.402258</td>\n",
              "      <td>98077.939805</td>\n",
              "      <td>47.560053</td>\n",
              "      <td>-122.213896</td>\n",
              "      <td>1986.552492</td>\n",
              "      <td>12768.455652</td>\n",
              "    </tr>\n",
              "    <tr>\n",
              "      <th>std</th>\n",
              "      <td>6239.28002</td>\n",
              "      <td>2.876566e+09</td>\n",
              "      <td>3.671272e+05</td>\n",
              "      <td>0.926657</td>\n",
              "      <td>0.768996</td>\n",
              "      <td>918.440897</td>\n",
              "      <td>4.142051e+04</td>\n",
              "      <td>0.539989</td>\n",
              "      <td>0.086517</td>\n",
              "      <td>0.766318</td>\n",
              "      <td>0.650743</td>\n",
              "      <td>1.175459</td>\n",
              "      <td>828.090978</td>\n",
              "      <td>442.575043</td>\n",
              "      <td>29.373411</td>\n",
              "      <td>401.679240</td>\n",
              "      <td>53.505026</td>\n",
              "      <td>0.138564</td>\n",
              "      <td>0.140828</td>\n",
              "      <td>685.391304</td>\n",
              "      <td>27304.179631</td>\n",
              "    </tr>\n",
              "    <tr>\n",
              "      <th>min</th>\n",
              "      <td>0.00000</td>\n",
              "      <td>1.000102e+06</td>\n",
              "      <td>7.500000e+04</td>\n",
              "      <td>1.000000</td>\n",
              "      <td>0.500000</td>\n",
              "      <td>290.000000</td>\n",
              "      <td>5.200000e+02</td>\n",
              "      <td>1.000000</td>\n",
              "      <td>0.000000</td>\n",
              "      <td>0.000000</td>\n",
              "      <td>1.000000</td>\n",
              "      <td>1.000000</td>\n",
              "      <td>290.000000</td>\n",
              "      <td>0.000000</td>\n",
              "      <td>1900.000000</td>\n",
              "      <td>0.000000</td>\n",
              "      <td>98001.000000</td>\n",
              "      <td>47.155900</td>\n",
              "      <td>-122.519000</td>\n",
              "      <td>399.000000</td>\n",
              "      <td>651.000000</td>\n",
              "    </tr>\n",
              "    <tr>\n",
              "      <th>25%</th>\n",
              "      <td>5403.00000</td>\n",
              "      <td>2.123049e+09</td>\n",
              "      <td>3.219500e+05</td>\n",
              "      <td>3.000000</td>\n",
              "      <td>1.750000</td>\n",
              "      <td>1427.000000</td>\n",
              "      <td>5.040000e+03</td>\n",
              "      <td>1.000000</td>\n",
              "      <td>0.000000</td>\n",
              "      <td>0.000000</td>\n",
              "      <td>3.000000</td>\n",
              "      <td>7.000000</td>\n",
              "      <td>1190.000000</td>\n",
              "      <td>0.000000</td>\n",
              "      <td>1951.000000</td>\n",
              "      <td>0.000000</td>\n",
              "      <td>98033.000000</td>\n",
              "      <td>47.471000</td>\n",
              "      <td>-122.328000</td>\n",
              "      <td>1490.000000</td>\n",
              "      <td>5100.000000</td>\n",
              "    </tr>\n",
              "    <tr>\n",
              "      <th>50%</th>\n",
              "      <td>10806.00000</td>\n",
              "      <td>3.904930e+09</td>\n",
              "      <td>4.500000e+05</td>\n",
              "      <td>3.000000</td>\n",
              "      <td>2.250000</td>\n",
              "      <td>1910.000000</td>\n",
              "      <td>7.618000e+03</td>\n",
              "      <td>1.500000</td>\n",
              "      <td>0.000000</td>\n",
              "      <td>0.000000</td>\n",
              "      <td>3.000000</td>\n",
              "      <td>7.000000</td>\n",
              "      <td>1560.000000</td>\n",
              "      <td>0.000000</td>\n",
              "      <td>1975.000000</td>\n",
              "      <td>0.000000</td>\n",
              "      <td>98065.000000</td>\n",
              "      <td>47.571800</td>\n",
              "      <td>-122.230000</td>\n",
              "      <td>1840.000000</td>\n",
              "      <td>7620.000000</td>\n",
              "    </tr>\n",
              "    <tr>\n",
              "      <th>75%</th>\n",
              "      <td>16209.00000</td>\n",
              "      <td>7.308900e+09</td>\n",
              "      <td>6.450000e+05</td>\n",
              "      <td>4.000000</td>\n",
              "      <td>2.500000</td>\n",
              "      <td>2550.000000</td>\n",
              "      <td>1.068800e+04</td>\n",
              "      <td>2.000000</td>\n",
              "      <td>0.000000</td>\n",
              "      <td>0.000000</td>\n",
              "      <td>4.000000</td>\n",
              "      <td>8.000000</td>\n",
              "      <td>2210.000000</td>\n",
              "      <td>560.000000</td>\n",
              "      <td>1997.000000</td>\n",
              "      <td>0.000000</td>\n",
              "      <td>98118.000000</td>\n",
              "      <td>47.678000</td>\n",
              "      <td>-122.125000</td>\n",
              "      <td>2360.000000</td>\n",
              "      <td>10083.000000</td>\n",
              "    </tr>\n",
              "    <tr>\n",
              "      <th>max</th>\n",
              "      <td>21612.00000</td>\n",
              "      <td>9.900000e+09</td>\n",
              "      <td>7.700000e+06</td>\n",
              "      <td>33.000000</td>\n",
              "      <td>8.000000</td>\n",
              "      <td>13540.000000</td>\n",
              "      <td>1.651359e+06</td>\n",
              "      <td>3.500000</td>\n",
              "      <td>1.000000</td>\n",
              "      <td>4.000000</td>\n",
              "      <td>5.000000</td>\n",
              "      <td>13.000000</td>\n",
              "      <td>9410.000000</td>\n",
              "      <td>4820.000000</td>\n",
              "      <td>2015.000000</td>\n",
              "      <td>2015.000000</td>\n",
              "      <td>98199.000000</td>\n",
              "      <td>47.777600</td>\n",
              "      <td>-121.315000</td>\n",
              "      <td>6210.000000</td>\n",
              "      <td>871200.000000</td>\n",
              "    </tr>\n",
              "  </tbody>\n",
              "</table>\n",
              "</div>"
            ],
            "text/plain": [
              "        Unnamed: 0            id  ...  sqft_living15     sqft_lot15\n",
              "count  21613.00000  2.161300e+04  ...   21613.000000   21613.000000\n",
              "mean   10806.00000  4.580302e+09  ...    1986.552492   12768.455652\n",
              "std     6239.28002  2.876566e+09  ...     685.391304   27304.179631\n",
              "min        0.00000  1.000102e+06  ...     399.000000     651.000000\n",
              "25%     5403.00000  2.123049e+09  ...    1490.000000    5100.000000\n",
              "50%    10806.00000  3.904930e+09  ...    1840.000000    7620.000000\n",
              "75%    16209.00000  7.308900e+09  ...    2360.000000   10083.000000\n",
              "max    21612.00000  9.900000e+09  ...    6210.000000  871200.000000\n",
              "\n",
              "[8 rows x 21 columns]"
            ]
          },
          "metadata": {
            "tags": []
          },
          "execution_count": 5
        }
      ]
    },
    {
      "cell_type": "markdown",
      "metadata": {
        "id": "ZEP6k6HiQJC8",
        "colab_type": "text"
      },
      "source": [
        "# 2.0 Data Wrangling"
      ]
    },
    {
      "cell_type": "markdown",
      "metadata": {
        "id": "MWGMjwxoQJC9",
        "colab_type": "text"
      },
      "source": [
        "#### Question 2 \n",
        "Drop the columns <code>\"id\"</code>  and <code>\"Unnamed: 0\"</code> from axis 1 using the method <code>drop()</code>, then use the method <code>describe()</code> to obtain a statistical summary of the data. Take a screenshot and submit it, make sure the inplace parameter is set to <code>True</code>"
      ]
    },
    {
      "cell_type": "code",
      "metadata": {
        "id": "VSO7mzjsQJC_",
        "colab_type": "code",
        "outputId": "8b22d005-f26d-409c-f477-1210bfd8af97",
        "colab": {
          "base_uri": "https://localhost:8080/",
          "height": 307
        }
      },
      "source": [
        "new_df=df.drop(['id','Unnamed: 0'], axis=1)\n",
        "#new_df.head()\n",
        "new_df.describe()"
      ],
      "execution_count": 0,
      "outputs": [
        {
          "output_type": "execute_result",
          "data": {
            "text/html": [
              "<div>\n",
              "<style scoped>\n",
              "    .dataframe tbody tr th:only-of-type {\n",
              "        vertical-align: middle;\n",
              "    }\n",
              "\n",
              "    .dataframe tbody tr th {\n",
              "        vertical-align: top;\n",
              "    }\n",
              "\n",
              "    .dataframe thead th {\n",
              "        text-align: right;\n",
              "    }\n",
              "</style>\n",
              "<table border=\"1\" class=\"dataframe\">\n",
              "  <thead>\n",
              "    <tr style=\"text-align: right;\">\n",
              "      <th></th>\n",
              "      <th>price</th>\n",
              "      <th>bedrooms</th>\n",
              "      <th>bathrooms</th>\n",
              "      <th>sqft_living</th>\n",
              "      <th>sqft_lot</th>\n",
              "      <th>floors</th>\n",
              "      <th>waterfront</th>\n",
              "      <th>view</th>\n",
              "      <th>condition</th>\n",
              "      <th>grade</th>\n",
              "      <th>sqft_above</th>\n",
              "      <th>sqft_basement</th>\n",
              "      <th>yr_built</th>\n",
              "      <th>yr_renovated</th>\n",
              "      <th>zipcode</th>\n",
              "      <th>lat</th>\n",
              "      <th>long</th>\n",
              "      <th>sqft_living15</th>\n",
              "      <th>sqft_lot15</th>\n",
              "    </tr>\n",
              "  </thead>\n",
              "  <tbody>\n",
              "    <tr>\n",
              "      <th>count</th>\n",
              "      <td>2.161300e+04</td>\n",
              "      <td>21600.000000</td>\n",
              "      <td>21603.000000</td>\n",
              "      <td>21613.000000</td>\n",
              "      <td>2.161300e+04</td>\n",
              "      <td>21613.000000</td>\n",
              "      <td>21613.000000</td>\n",
              "      <td>21613.000000</td>\n",
              "      <td>21613.000000</td>\n",
              "      <td>21613.000000</td>\n",
              "      <td>21613.000000</td>\n",
              "      <td>21613.000000</td>\n",
              "      <td>21613.000000</td>\n",
              "      <td>21613.000000</td>\n",
              "      <td>21613.000000</td>\n",
              "      <td>21613.000000</td>\n",
              "      <td>21613.000000</td>\n",
              "      <td>21613.000000</td>\n",
              "      <td>21613.000000</td>\n",
              "    </tr>\n",
              "    <tr>\n",
              "      <th>mean</th>\n",
              "      <td>5.400881e+05</td>\n",
              "      <td>3.372870</td>\n",
              "      <td>2.115736</td>\n",
              "      <td>2079.899736</td>\n",
              "      <td>1.510697e+04</td>\n",
              "      <td>1.494309</td>\n",
              "      <td>0.007542</td>\n",
              "      <td>0.234303</td>\n",
              "      <td>3.409430</td>\n",
              "      <td>7.656873</td>\n",
              "      <td>1788.390691</td>\n",
              "      <td>291.509045</td>\n",
              "      <td>1971.005136</td>\n",
              "      <td>84.402258</td>\n",
              "      <td>98077.939805</td>\n",
              "      <td>47.560053</td>\n",
              "      <td>-122.213896</td>\n",
              "      <td>1986.552492</td>\n",
              "      <td>12768.455652</td>\n",
              "    </tr>\n",
              "    <tr>\n",
              "      <th>std</th>\n",
              "      <td>3.671272e+05</td>\n",
              "      <td>0.926657</td>\n",
              "      <td>0.768996</td>\n",
              "      <td>918.440897</td>\n",
              "      <td>4.142051e+04</td>\n",
              "      <td>0.539989</td>\n",
              "      <td>0.086517</td>\n",
              "      <td>0.766318</td>\n",
              "      <td>0.650743</td>\n",
              "      <td>1.175459</td>\n",
              "      <td>828.090978</td>\n",
              "      <td>442.575043</td>\n",
              "      <td>29.373411</td>\n",
              "      <td>401.679240</td>\n",
              "      <td>53.505026</td>\n",
              "      <td>0.138564</td>\n",
              "      <td>0.140828</td>\n",
              "      <td>685.391304</td>\n",
              "      <td>27304.179631</td>\n",
              "    </tr>\n",
              "    <tr>\n",
              "      <th>min</th>\n",
              "      <td>7.500000e+04</td>\n",
              "      <td>1.000000</td>\n",
              "      <td>0.500000</td>\n",
              "      <td>290.000000</td>\n",
              "      <td>5.200000e+02</td>\n",
              "      <td>1.000000</td>\n",
              "      <td>0.000000</td>\n",
              "      <td>0.000000</td>\n",
              "      <td>1.000000</td>\n",
              "      <td>1.000000</td>\n",
              "      <td>290.000000</td>\n",
              "      <td>0.000000</td>\n",
              "      <td>1900.000000</td>\n",
              "      <td>0.000000</td>\n",
              "      <td>98001.000000</td>\n",
              "      <td>47.155900</td>\n",
              "      <td>-122.519000</td>\n",
              "      <td>399.000000</td>\n",
              "      <td>651.000000</td>\n",
              "    </tr>\n",
              "    <tr>\n",
              "      <th>25%</th>\n",
              "      <td>3.219500e+05</td>\n",
              "      <td>3.000000</td>\n",
              "      <td>1.750000</td>\n",
              "      <td>1427.000000</td>\n",
              "      <td>5.040000e+03</td>\n",
              "      <td>1.000000</td>\n",
              "      <td>0.000000</td>\n",
              "      <td>0.000000</td>\n",
              "      <td>3.000000</td>\n",
              "      <td>7.000000</td>\n",
              "      <td>1190.000000</td>\n",
              "      <td>0.000000</td>\n",
              "      <td>1951.000000</td>\n",
              "      <td>0.000000</td>\n",
              "      <td>98033.000000</td>\n",
              "      <td>47.471000</td>\n",
              "      <td>-122.328000</td>\n",
              "      <td>1490.000000</td>\n",
              "      <td>5100.000000</td>\n",
              "    </tr>\n",
              "    <tr>\n",
              "      <th>50%</th>\n",
              "      <td>4.500000e+05</td>\n",
              "      <td>3.000000</td>\n",
              "      <td>2.250000</td>\n",
              "      <td>1910.000000</td>\n",
              "      <td>7.618000e+03</td>\n",
              "      <td>1.500000</td>\n",
              "      <td>0.000000</td>\n",
              "      <td>0.000000</td>\n",
              "      <td>3.000000</td>\n",
              "      <td>7.000000</td>\n",
              "      <td>1560.000000</td>\n",
              "      <td>0.000000</td>\n",
              "      <td>1975.000000</td>\n",
              "      <td>0.000000</td>\n",
              "      <td>98065.000000</td>\n",
              "      <td>47.571800</td>\n",
              "      <td>-122.230000</td>\n",
              "      <td>1840.000000</td>\n",
              "      <td>7620.000000</td>\n",
              "    </tr>\n",
              "    <tr>\n",
              "      <th>75%</th>\n",
              "      <td>6.450000e+05</td>\n",
              "      <td>4.000000</td>\n",
              "      <td>2.500000</td>\n",
              "      <td>2550.000000</td>\n",
              "      <td>1.068800e+04</td>\n",
              "      <td>2.000000</td>\n",
              "      <td>0.000000</td>\n",
              "      <td>0.000000</td>\n",
              "      <td>4.000000</td>\n",
              "      <td>8.000000</td>\n",
              "      <td>2210.000000</td>\n",
              "      <td>560.000000</td>\n",
              "      <td>1997.000000</td>\n",
              "      <td>0.000000</td>\n",
              "      <td>98118.000000</td>\n",
              "      <td>47.678000</td>\n",
              "      <td>-122.125000</td>\n",
              "      <td>2360.000000</td>\n",
              "      <td>10083.000000</td>\n",
              "    </tr>\n",
              "    <tr>\n",
              "      <th>max</th>\n",
              "      <td>7.700000e+06</td>\n",
              "      <td>33.000000</td>\n",
              "      <td>8.000000</td>\n",
              "      <td>13540.000000</td>\n",
              "      <td>1.651359e+06</td>\n",
              "      <td>3.500000</td>\n",
              "      <td>1.000000</td>\n",
              "      <td>4.000000</td>\n",
              "      <td>5.000000</td>\n",
              "      <td>13.000000</td>\n",
              "      <td>9410.000000</td>\n",
              "      <td>4820.000000</td>\n",
              "      <td>2015.000000</td>\n",
              "      <td>2015.000000</td>\n",
              "      <td>98199.000000</td>\n",
              "      <td>47.777600</td>\n",
              "      <td>-121.315000</td>\n",
              "      <td>6210.000000</td>\n",
              "      <td>871200.000000</td>\n",
              "    </tr>\n",
              "  </tbody>\n",
              "</table>\n",
              "</div>"
            ],
            "text/plain": [
              "              price      bedrooms  ...  sqft_living15     sqft_lot15\n",
              "count  2.161300e+04  21600.000000  ...   21613.000000   21613.000000\n",
              "mean   5.400881e+05      3.372870  ...    1986.552492   12768.455652\n",
              "std    3.671272e+05      0.926657  ...     685.391304   27304.179631\n",
              "min    7.500000e+04      1.000000  ...     399.000000     651.000000\n",
              "25%    3.219500e+05      3.000000  ...    1490.000000    5100.000000\n",
              "50%    4.500000e+05      3.000000  ...    1840.000000    7620.000000\n",
              "75%    6.450000e+05      4.000000  ...    2360.000000   10083.000000\n",
              "max    7.700000e+06     33.000000  ...    6210.000000  871200.000000\n",
              "\n",
              "[8 rows x 19 columns]"
            ]
          },
          "metadata": {
            "tags": []
          },
          "execution_count": 6
        }
      ]
    },
    {
      "cell_type": "markdown",
      "metadata": {
        "id": "Y6VcspX0QJDP",
        "colab_type": "text"
      },
      "source": [
        "we can see we have missing values for the columns <code> bedrooms</code>  and <code> bathrooms </code>"
      ]
    },
    {
      "cell_type": "code",
      "metadata": {
        "id": "zlewV-v2QJDS",
        "colab_type": "code",
        "outputId": "c34bdecc-7b0c-4c86-8990-b80b653dc209",
        "colab": {
          "base_uri": "https://localhost:8080/",
          "height": 52
        }
      },
      "source": [
        "print(\"number of NaN values for the column bedrooms :\", df['bedrooms'].isnull().sum())\n",
        "print(\"number of NaN values for the column bathrooms :\", df['bathrooms'].isnull().sum())\n"
      ],
      "execution_count": 0,
      "outputs": [
        {
          "output_type": "stream",
          "text": [
            "number of NaN values for the column bedrooms : 13\n",
            "number of NaN values for the column bathrooms : 10\n"
          ],
          "name": "stdout"
        }
      ]
    },
    {
      "cell_type": "markdown",
      "metadata": {
        "id": "lBiae9kcQJDZ",
        "colab_type": "text"
      },
      "source": [
        "\n",
        "We can replace the missing values of the column <code>'bedrooms'</code> with the mean of the column  <code>'bedrooms' </code> using the method replace. Don't forget to set the <code>inplace</code> parameter top <code>True</code>"
      ]
    },
    {
      "cell_type": "code",
      "metadata": {
        "id": "lM3iJlbBQJDa",
        "colab_type": "code",
        "colab": {}
      },
      "source": [
        "mean=df['bedrooms'].mean()\n",
        "df['bedrooms'].replace(np.nan, mean, inplace=True)"
      ],
      "execution_count": 0,
      "outputs": []
    },
    {
      "cell_type": "markdown",
      "metadata": {
        "id": "xE_zAVGiQJDe",
        "colab_type": "text"
      },
      "source": [
        "\n",
        "We also replace the missing values of the column <code>'bathrooms'</code> with the mean of the column  <code>'bedrooms' </codse> using the method replace.Don't forget to set the <code> inplace </code>  parameter top <code> Ture </code>"
      ]
    },
    {
      "cell_type": "code",
      "metadata": {
        "id": "6KwbZIUMQJDf",
        "colab_type": "code",
        "colab": {}
      },
      "source": [
        "mean=df['bathrooms'].mean()\n",
        "df['bathrooms'].replace(np.nan, mean, inplace=True)"
      ],
      "execution_count": 0,
      "outputs": []
    },
    {
      "cell_type": "code",
      "metadata": {
        "id": "FbyNC2XxQJDm",
        "colab_type": "code",
        "outputId": "e6f362c6-3ce5-4f07-e809-f9115ca5a163",
        "colab": {
          "base_uri": "https://localhost:8080/",
          "height": 52
        }
      },
      "source": [
        "print(\"number of NaN values for the column bedrooms :\", df['bedrooms'].isnull().sum())\n",
        "print(\"number of NaN values for the column bathrooms :\", df['bathrooms'].isnull().sum())"
      ],
      "execution_count": 0,
      "outputs": [
        {
          "output_type": "stream",
          "text": [
            "number of NaN values for the column bedrooms : 0\n",
            "number of NaN values for the column bathrooms : 0\n"
          ],
          "name": "stdout"
        }
      ]
    },
    {
      "cell_type": "markdown",
      "metadata": {
        "id": "BQpq2QzwQJDr",
        "colab_type": "text"
      },
      "source": [
        "# 3.0 Exploratory data analysis"
      ]
    },
    {
      "cell_type": "markdown",
      "metadata": {
        "id": "GzDPzvcYQJDs",
        "colab_type": "text"
      },
      "source": [
        "#### Question 3\n",
        "Use the method value_counts to count the number of houses with unique floor values, use the method .to_frame() to convert it to a dataframe.\n"
      ]
    },
    {
      "cell_type": "code",
      "metadata": {
        "id": "8XlDer5SQJDt",
        "colab_type": "code",
        "outputId": "403b295c-8e48-4417-f698-929880df1ff5",
        "colab": {
          "base_uri": "https://localhost:8080/",
          "height": 227
        }
      },
      "source": [
        "uniq_house=df['floors'].value_counts()\n",
        "uniq_house.to_frame()"
      ],
      "execution_count": 0,
      "outputs": [
        {
          "output_type": "execute_result",
          "data": {
            "text/html": [
              "<div>\n",
              "<style scoped>\n",
              "    .dataframe tbody tr th:only-of-type {\n",
              "        vertical-align: middle;\n",
              "    }\n",
              "\n",
              "    .dataframe tbody tr th {\n",
              "        vertical-align: top;\n",
              "    }\n",
              "\n",
              "    .dataframe thead th {\n",
              "        text-align: right;\n",
              "    }\n",
              "</style>\n",
              "<table border=\"1\" class=\"dataframe\">\n",
              "  <thead>\n",
              "    <tr style=\"text-align: right;\">\n",
              "      <th></th>\n",
              "      <th>floors</th>\n",
              "    </tr>\n",
              "  </thead>\n",
              "  <tbody>\n",
              "    <tr>\n",
              "      <th>1.0</th>\n",
              "      <td>10680</td>\n",
              "    </tr>\n",
              "    <tr>\n",
              "      <th>2.0</th>\n",
              "      <td>8241</td>\n",
              "    </tr>\n",
              "    <tr>\n",
              "      <th>1.5</th>\n",
              "      <td>1910</td>\n",
              "    </tr>\n",
              "    <tr>\n",
              "      <th>3.0</th>\n",
              "      <td>613</td>\n",
              "    </tr>\n",
              "    <tr>\n",
              "      <th>2.5</th>\n",
              "      <td>161</td>\n",
              "    </tr>\n",
              "    <tr>\n",
              "      <th>3.5</th>\n",
              "      <td>8</td>\n",
              "    </tr>\n",
              "  </tbody>\n",
              "</table>\n",
              "</div>"
            ],
            "text/plain": [
              "     floors\n",
              "1.0   10680\n",
              "2.0    8241\n",
              "1.5    1910\n",
              "3.0     613\n",
              "2.5     161\n",
              "3.5       8"
            ]
          },
          "metadata": {
            "tags": []
          },
          "execution_count": 11
        }
      ]
    },
    {
      "cell_type": "markdown",
      "metadata": {
        "id": "LMw9WGFFQJDx",
        "colab_type": "text"
      },
      "source": [
        "### Question 4\n",
        "Use the function <code>boxplot</code> in the seaborn library  to  determine whether houses with a waterfront view or without a waterfront view have more price outliers ."
      ]
    },
    {
      "cell_type": "code",
      "metadata": {
        "id": "dYDpPYL0QJD0",
        "colab_type": "code",
        "outputId": "428d8fab-2e36-40df-f2a2-12e6c9099ed3",
        "colab": {
          "base_uri": "https://localhost:8080/",
          "height": 300
        }
      },
      "source": [
        "\n",
        "sns.boxplot(y=new_df['price'],x=new_df['waterfront'], data=new_df)\n"
      ],
      "execution_count": 0,
      "outputs": [
        {
          "output_type": "execute_result",
          "data": {
            "text/plain": [
              "<matplotlib.axes._subplots.AxesSubplot at 0x7f09bb5e2e10>"
            ]
          },
          "metadata": {
            "tags": []
          },
          "execution_count": 12
        },
        {
          "output_type": "display_data",
          "data": {
            "image/png": "[encoded data removed]",
            "text/plain": [
              "<Figure size 432x288 with 1 Axes>"
            ]
          },
          "metadata": {
            "tags": []
          }
        }
      ]
    },
    {
      "cell_type": "markdown",
      "metadata": {
        "id": "aTlqgb8uQJD4",
        "colab_type": "text"
      },
      "source": [
        "### Question 5\n",
        "Use the function <code> regplot</code>  in the seaborn library  to  determine if the feature <code>sqft_above</code> is negatively or positively correlated with price."
      ]
    },
    {
      "cell_type": "code",
      "metadata": {
        "id": "KaU5MHj8QJD5",
        "colab_type": "code",
        "outputId": "dcec9569-9fdb-4377-e63b-037039572570",
        "colab": {
          "base_uri": "https://localhost:8080/",
          "height": 301
        }
      },
      "source": [
        "sns.regplot(x=\"sqft_above\", y=\"price\",data=new_df)"
      ],
      "execution_count": 0,
      "outputs": [
        {
          "output_type": "execute_result",
          "data": {
            "text/plain": [
              "<matplotlib.axes._subplots.AxesSubplot at 0x7f09b8cbba20>"
            ]
          },
          "metadata": {
            "tags": []
          },
          "execution_count": 13
        },
        {
          "output_type": "display_data",
          "data": {
            "image/png": "[encoded data removed]",
            "text/plain": [
              "<Figure size 432x288 with 1 Axes>"
            ]
          },
          "metadata": {
            "tags": []
          }
        }
      ]
    },
    {
      "cell_type": "markdown",
      "metadata": {
        "id": "ZGgaZzK0QJD8",
        "colab_type": "text"
      },
      "source": [
        "\n",
        "We can use the Pandas method <code>corr()</code>  to find the feature other than price that is most correlated with price."
      ]
    },
    {
      "cell_type": "code",
      "metadata": {
        "id": "m9mWSM9SQJD9",
        "colab_type": "code",
        "outputId": "706bbdea-1d39-43ff-d18b-7f4fefe15397",
        "colab": {
          "base_uri": "https://localhost:8080/",
          "height": 372
        }
      },
      "source": [
        "new_df.corr()['price'].sort_values()"
      ],
      "execution_count": 0,
      "outputs": [
        {
          "output_type": "execute_result",
          "data": {
            "text/plain": [
              "zipcode         -0.053203\n",
              "long             0.021626\n",
              "condition        0.036362\n",
              "yr_built         0.054012\n",
              "sqft_lot15       0.082447\n",
              "sqft_lot         0.089661\n",
              "yr_renovated     0.126434\n",
              "floors           0.256794\n",
              "waterfront       0.266369\n",
              "lat              0.307003\n",
              "bedrooms         0.308890\n",
              "sqft_basement    0.323816\n",
              "view             0.397293\n",
              "bathrooms        0.525885\n",
              "sqft_living15    0.585379\n",
              "sqft_above       0.605567\n",
              "grade            0.667434\n",
              "sqft_living      0.702035\n",
              "price            1.000000\n",
              "Name: price, dtype: float64"
            ]
          },
          "metadata": {
            "tags": []
          },
          "execution_count": 14
        }
      ]
    },
    {
      "cell_type": "markdown",
      "metadata": {
        "id": "_TcfYB3mQJEE",
        "colab_type": "text"
      },
      "source": [
        "# Module 4: Model Development"
      ]
    },
    {
      "cell_type": "markdown",
      "metadata": {
        "id": "qgbRl6WLQJEK",
        "colab_type": "text"
      },
      "source": [
        "Import libraries "
      ]
    },
    {
      "cell_type": "code",
      "metadata": {
        "id": "CMduCx1aQJEO",
        "colab_type": "code",
        "colab": {}
      },
      "source": [
        "import matplotlib.pyplot as plt\n",
        "from sklearn.linear_model import LinearRegression\n"
      ],
      "execution_count": 0,
      "outputs": []
    },
    {
      "cell_type": "markdown",
      "metadata": {
        "id": "vL_8p57AQJEU",
        "colab_type": "text"
      },
      "source": [
        "\n",
        "We can Fit a linear regression model using the  longitude feature <code> 'long'</code> and  caculate the R^2."
      ]
    },
    {
      "cell_type": "code",
      "metadata": {
        "id": "xZSOQwnpQJEW",
        "colab_type": "code",
        "outputId": "a05220d3-364d-4726-e130-e215d5747fda",
        "colab": {
          "base_uri": "https://localhost:8080/",
          "height": 34
        }
      },
      "source": [
        "X = df[['long']]\n",
        "Y = df['price']\n",
        "lm = LinearRegression()\n",
        "lm\n",
        "lm.fit(X,Y)\n",
        "lm.score(X, Y)"
      ],
      "execution_count": 0,
      "outputs": [
        {
          "output_type": "execute_result",
          "data": {
            "text/plain": [
              "0.00046769430149007363"
            ]
          },
          "metadata": {
            "tags": []
          },
          "execution_count": 16
        }
      ]
    },
    {
      "cell_type": "markdown",
      "metadata": {
        "id": "JfvFG6m9QJEa",
        "colab_type": "text"
      },
      "source": [
        "### Question  6\n",
        "Fit a linear regression model to predict the <code>'price'</code> using the feature 'sqft_living' then calculate the R^2. Take a screenshot of your code and the value of the R^2."
      ]
    },
    {
      "cell_type": "code",
      "metadata": {
        "id": "MJycIFz_QJEb",
        "colab_type": "code",
        "outputId": "e67b46dc-d9c8-4078-c522-653975a24c67",
        "colab": {
          "base_uri": "https://localhost:8080/",
          "height": 34
        }
      },
      "source": [
        "X = df[['sqft_living']]\n",
        "Y = df['price']\n",
        "lm = LinearRegression()\n",
        "lm\n",
        "lm.fit(X,Y)\n",
        "lm.score(X, Y)"
      ],
      "execution_count": 0,
      "outputs": [
        {
          "output_type": "execute_result",
          "data": {
            "text/plain": [
              "0.49285321790379316"
            ]
          },
          "metadata": {
            "tags": []
          },
          "execution_count": 17
        }
      ]
    },
    {
      "cell_type": "markdown",
      "metadata": {
        "id": "p7au9G0uQJEf",
        "colab_type": "text"
      },
      "source": [
        "### Question 7\n",
        "Fit a linear regression model to predict the 'price' using the list of features:"
      ]
    },
    {
      "cell_type": "code",
      "metadata": {
        "id": "Lil99zKsQJEh",
        "colab_type": "code",
        "colab": {}
      },
      "source": [
        "features =[\"floors\", \"waterfront\",\"lat\" ,\"bedrooms\" ,\"sqft_basement\" ,\"view\" ,\"bathrooms\",\"sqft_living15\",\"sqft_above\",\"grade\",\"sqft_living\"]     "
      ],
      "execution_count": 0,
      "outputs": []
    },
    {
      "cell_type": "markdown",
      "metadata": {
        "id": "fgLYVOMbQJEn",
        "colab_type": "text"
      },
      "source": [
        "the calculate the R^2. Take a screenshot of your code"
      ]
    },
    {
      "cell_type": "code",
      "metadata": {
        "id": "3BMtRtbMQJEo",
        "colab_type": "code",
        "outputId": "6395461b-e2f7-4a29-a0e7-cf351d858cc9",
        "colab": {
          "base_uri": "https://localhost:8080/",
          "height": 34
        }
      },
      "source": [
        "X = df[features]\n",
        "Y = df['price']\n",
        "lm = LinearRegression()\n",
        "lm\n",
        "lm.fit(X,Y)\n",
        "lm.score(X, Y)"
      ],
      "execution_count": 0,
      "outputs": [
        {
          "output_type": "execute_result",
          "data": {
            "text/plain": [
              "0.6576565253474225"
            ]
          },
          "metadata": {
            "tags": []
          },
          "execution_count": 19
        }
      ]
    },
    {
      "cell_type": "markdown",
      "metadata": {
        "id": "HUM9fyY5QJEr",
        "colab_type": "text"
      },
      "source": [
        "#### this will help with Question 8\n",
        "\n",
        "Create a list of tuples, the first element in the tuple contains the name of the estimator:\n",
        "\n",
        "<code>'scale'</code>\n",
        "\n",
        "<code>'polynomial'</code>\n",
        "\n",
        "<code>'model'</code>\n",
        "\n",
        "The second element in the tuple  contains the model constructor \n",
        "\n",
        "<code>StandardScaler()</code>\n",
        "\n",
        "<code>PolynomialFeatures(include_bias=False)</code>\n",
        "\n",
        "<code>LinearRegression()</code>\n"
      ]
    },
    {
      "cell_type": "code",
      "metadata": {
        "id": "ejPFix3CQJEs",
        "colab_type": "code",
        "colab": {}
      },
      "source": [
        "Input=[('scale',StandardScaler()),('polynomial', PolynomialFeatures(include_bias=False)),('model',LinearRegression())]"
      ],
      "execution_count": 0,
      "outputs": []
    },
    {
      "cell_type": "markdown",
      "metadata": {
        "id": "FGiHBC7tQJEv",
        "colab_type": "text"
      },
      "source": [
        "### Question 8\n",
        "Use the list to create a pipeline object,  predict the 'price', fit the object using the features in the list <code> features </code>, then fit the model and calculate the R^2"
      ]
    },
    {
      "cell_type": "code",
      "metadata": {
        "id": "uoAvvMCYQJEw",
        "colab_type": "code",
        "outputId": "9d434081-e3c1-4b80-b83a-214156c90ea2",
        "colab": {
          "base_uri": "https://localhost:8080/",
          "height": 194
        }
      },
      "source": [
        "pipe=Pipeline(Input)\n",
        "pipe"
      ],
      "execution_count": 0,
      "outputs": [
        {
          "output_type": "execute_result",
          "data": {
            "text/plain": [
              "Pipeline(memory=None,\n",
              "         steps=[('scale',\n",
              "                 StandardScaler(copy=True, with_mean=True, with_std=True)),\n",
              "                ('polynomial',\n",
              "                 PolynomialFeatures(degree=2, include_bias=False,\n",
              "                                    interaction_only=False, order='C')),\n",
              "                ('model',\n",
              "                 LinearRegression(copy_X=True, fit_intercept=True, n_jobs=None,\n",
              "                                  normalize=False))],\n",
              "         verbose=False)"
            ]
          },
          "metadata": {
            "tags": []
          },
          "execution_count": 21
        }
      ]
    },
    {
      "cell_type": "code",
      "metadata": {
        "id": "snQzHI5YQJE3",
        "colab_type": "code",
        "outputId": "1d6ad14c-389a-4852-bb1d-125150ec9dda",
        "colab": {
          "base_uri": "https://localhost:8080/",
          "height": 194
        }
      },
      "source": [
        "pipe.fit(X,Y)"
      ],
      "execution_count": 0,
      "outputs": [
        {
          "output_type": "execute_result",
          "data": {
            "text/plain": [
              "Pipeline(memory=None,\n",
              "         steps=[('scale',\n",
              "                 StandardScaler(copy=True, with_mean=True, with_std=True)),\n",
              "                ('polynomial',\n",
              "                 PolynomialFeatures(degree=2, include_bias=False,\n",
              "                                    interaction_only=False, order='C')),\n",
              "                ('model',\n",
              "                 LinearRegression(copy_X=True, fit_intercept=True, n_jobs=None,\n",
              "                                  normalize=False))],\n",
              "         verbose=False)"
            ]
          },
          "metadata": {
            "tags": []
          },
          "execution_count": 22
        }
      ]
    },
    {
      "cell_type": "code",
      "metadata": {
        "id": "cXoWR2mjQJE8",
        "colab_type": "code",
        "outputId": "4648f1a7-2e62-45b5-f9ce-44a939535856",
        "colab": {
          "base_uri": "https://localhost:8080/",
          "height": 34
        }
      },
      "source": [
        "pipe.score(X,Y)"
      ],
      "execution_count": 0,
      "outputs": [
        {
          "output_type": "execute_result",
          "data": {
            "text/plain": [
              "0.7513410480451947"
            ]
          },
          "metadata": {
            "tags": []
          },
          "execution_count": 23
        }
      ]
    },
    {
      "cell_type": "markdown",
      "metadata": {
        "id": "MNfdE6voQJFL",
        "colab_type": "text"
      },
      "source": [
        "# Module 5: MODEL EVALUATION AND REFINEMENT"
      ]
    },
    {
      "cell_type": "markdown",
      "metadata": {
        "id": "-tz6JrMUQJFM",
        "colab_type": "text"
      },
      "source": [
        "import the necessary modules  "
      ]
    },
    {
      "cell_type": "code",
      "metadata": {
        "id": "vFGZ-b8xQJFN",
        "colab_type": "code",
        "outputId": "fca30266-f34e-49d7-9698-24dbd5d5598c",
        "colab": {
          "base_uri": "https://localhost:8080/",
          "height": 34
        }
      },
      "source": [
        "from sklearn.model_selection import cross_val_score\n",
        "from sklearn.model_selection import train_test_split\n",
        "print(\"done\")"
      ],
      "execution_count": 0,
      "outputs": [
        {
          "output_type": "stream",
          "text": [
            "done\n"
          ],
          "name": "stdout"
        }
      ]
    },
    {
      "cell_type": "markdown",
      "metadata": {
        "id": "YdhguNgpQJFQ",
        "colab_type": "text"
      },
      "source": [
        "we will split the data into training and testing set"
      ]
    },
    {
      "cell_type": "code",
      "metadata": {
        "id": "BKhsPISCQJFR",
        "colab_type": "code",
        "outputId": "3dd388fc-c9fe-4ea8-8107-4032e6dabac2",
        "colab": {
          "base_uri": "https://localhost:8080/",
          "height": 52
        }
      },
      "source": [
        "features =[\"floors\", \"waterfront\",\"lat\" ,\"bedrooms\" ,\"sqft_basement\" ,\"view\" ,\"bathrooms\",\"sqft_living15\",\"sqft_above\",\"grade\",\"sqft_living\"]    \n",
        "X = df[features]\n",
        "Y = df['price']\n",
        "\n",
        "x_train, x_test, y_train, y_test = train_test_split(X, Y, test_size=0.15, random_state=1)\n",
        "\n",
        "\n",
        "print(\"number of test samples :\", x_test.shape[0])\n",
        "print(\"number of training samples:\",x_train.shape[0])"
      ],
      "execution_count": 0,
      "outputs": [
        {
          "output_type": "stream",
          "text": [
            "number of test samples : 3242\n",
            "number of training samples: 18371\n"
          ],
          "name": "stdout"
        }
      ]
    },
    {
      "cell_type": "markdown",
      "metadata": {
        "id": "qhznGVc8QJFV",
        "colab_type": "text"
      },
      "source": [
        "### Question 9\n",
        "Create and fit a Ridge regression object using the training data, setting the regularization parameter to 0.1 and calculate the R^2 using the test data. \n"
      ]
    },
    {
      "cell_type": "code",
      "metadata": {
        "id": "F1iSrL9dQJFZ",
        "colab_type": "code",
        "colab": {}
      },
      "source": [
        "from sklearn.linear_model import Ridge"
      ],
      "execution_count": 0,
      "outputs": []
    },
    {
      "cell_type": "code",
      "metadata": {
        "id": "EmGfNISCQJFo",
        "colab_type": "code",
        "colab": {}
      },
      "source": [
        "RigeModel=Ridge(alpha=0.1)"
      ],
      "execution_count": 0,
      "outputs": []
    },
    {
      "cell_type": "code",
      "metadata": {
        "id": "M6onvvGoY_ca",
        "colab_type": "code",
        "colab": {}
      },
      "source": [
        "RigeModel.fit(x_train, y_train)"
      ],
      "execution_count": 0,
      "outputs": []
    },
    {
      "cell_type": "code",
      "metadata": {
        "id": "uUOpPOXcZ6LF",
        "colab_type": "code",
        "outputId": "c98689ac-db34-41a2-c400-ad1835ce1d87",
        "colab": {
          "base_uri": "https://localhost:8080/",
          "height": 34
        }
      },
      "source": [
        "RigeModel.score(x_test,y_test)"
      ],
      "execution_count": 0,
      "outputs": [
        {
          "output_type": "execute_result",
          "data": {
            "text/plain": [
              "0.6478759163939117"
            ]
          },
          "metadata": {
            "tags": []
          },
          "execution_count": 29
        }
      ]
    },
    {
      "cell_type": "markdown",
      "metadata": {
        "id": "FF5vqAbwQJFv",
        "colab_type": "text"
      },
      "source": [
        "### Question 10\n",
        "Perform a second order polynomial transform on both the training data and testing data. Create and fit a Ridge regression object using the training data, setting the regularisation parameter to 0.1.  Calculate the R^2 utilising the test data provided. Take a screenshot of your code and the R^2."
      ]
    },
    {
      "cell_type": "code",
      "metadata": {
        "id": "RV_p3BJVQJFw",
        "colab_type": "code",
        "colab": {}
      },
      "source": [
        "from sklearn.preprocessing import PolynomialFeatures"
      ],
      "execution_count": 0,
      "outputs": []
    },
    {
      "cell_type": "code",
      "metadata": {
        "id": "plmNT2rwgIXy",
        "colab_type": "code",
        "outputId": "7f9e887b-08da-4655-b87f-a841ab9d0ac6",
        "colab": {
          "base_uri": "https://localhost:8080/",
          "height": 52
        }
      },
      "source": [
        "pr = PolynomialFeatures(degree=2)\n",
        "x_poly_train = pr.fit_transform(x_train)\n",
        "x_poly_test = pr.fit_transform(x_test)\n",
        "pr"
      ],
      "execution_count": 0,
      "outputs": [
        {
          "output_type": "execute_result",
          "data": {
            "text/plain": [
              "PolynomialFeatures(degree=2, include_bias=True, interaction_only=False,\n",
              "                   order='C')"
            ]
          },
          "metadata": {
            "tags": []
          },
          "execution_count": 31
        }
      ]
    },
    {
      "cell_type": "code",
      "metadata": {
        "colab_type": "code",
        "id": "4HdGVcKYsWp-",
        "colab": {}
      },
      "source": [
        "RigeModel=Ridge(alpha=0.1)"
      ],
      "execution_count": 0,
      "outputs": []
    },
    {
      "cell_type": "code",
      "metadata": {
        "colab_type": "code",
        "outputId": "c6605127-9178-4360-817c-d6f128d99a6d",
        "id": "3RgaVYczsWqU",
        "colab": {
          "base_uri": "https://localhost:8080/",
          "height": 52
        }
      },
      "source": [
        "RigeModel.fit(x_train, y_train)"
      ],
      "execution_count": 0,
      "outputs": [
        {
          "output_type": "execute_result",
          "data": {
            "text/plain": [
              "Ridge(alpha=0.1, copy_X=True, fit_intercept=True, max_iter=None,\n",
              "      normalize=False, random_state=None, solver='auto', tol=0.001)"
            ]
          },
          "metadata": {
            "tags": []
          },
          "execution_count": 33
        }
      ]
    },
    {
      "cell_type": "code",
      "metadata": {
        "id": "MTsTLsEiskb_",
        "colab_type": "code",
        "outputId": "c02f492b-5a83-4a89-d96b-2477545df552",
        "colab": {
          "base_uri": "https://localhost:8080/",
          "height": 34
        }
      },
      "source": [
        "RigeModel.score(x_test,y_test)"
      ],
      "execution_count": 0,
      "outputs": [
        {
          "output_type": "execute_result",
          "data": {
            "text/plain": [
              "0.6478759163939117"
            ]
          },
          "metadata": {
            "tags": []
          },
          "execution_count": 34
        }
      ]
    }
  ]
}